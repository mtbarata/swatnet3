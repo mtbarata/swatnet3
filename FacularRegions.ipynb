{
 "cells": [
  {
   "cell_type": "markdown",
   "id": "fe07fc5e",
   "metadata": {},
   "source": [
    "# Automated facular regions detection based on morphological operators\n",
    "The following is a sequence based on morphological operators to segment sunspots on H-alpha images from the spectroheliograph of Coimbra Observatory"
   ]
  },
  {
   "cell_type": "code",
   "execution_count": null,
   "id": "b7f28ec7",
   "metadata": {},
   "outputs": [],
   "source": [
    "import diplib as dip"
   ]
  },
  {
   "cell_type": "markdown",
   "id": "6c3d8415",
   "metadata": {},
   "source": [
    "### 1. Reading and displaying the image"
   ]
  },
  {
   "cell_type": "code",
   "execution_count": null,
   "id": "05aece3a",
   "metadata": {},
   "outputs": [],
   "source": [
    "img = dip.ImageReadTIFF('141003K3')\n",
    "img.Show()"
   ]
  },
  {
   "cell_type": "markdown",
   "id": "8060d35a",
   "metadata": {},
   "source": [
    "### 2. Creating the Sun mask"
   ]
  },
  {
   "cell_type": "code",
   "execution_count": null,
   "id": "5d7574db",
   "metadata": {},
   "outputs": [],
   "source": [
    "ope = dip.Opening(img,5)\n",
    "ope.Show()\n"
   ]
  },
  {
   "cell_type": "markdown",
   "id": "a6954ba4",
   "metadata": {},
   "source": [
    "Thresholding of the image to obtain a binary mask of the sun (correspond to all non-zero pixels)"
   ]
  },
  {
   "cell_type": "code",
   "execution_count": null,
   "id": "64c157f9",
   "metadata": {},
   "outputs": [],
   "source": [
    "bin = dip.FixedThreshold(ope,30)\n",
    "bin.Show()"
   ]
  },
  {
   "cell_type": "markdown",
   "id": "792797fb",
   "metadata": {},
   "source": [
    "Morphological gradient to automatic detect the solar disk contour"
   ]
  },
  {
   "cell_type": "code",
   "execution_count": null,
   "id": "02499a67",
   "metadata": {},
   "outputs": [],
   "source": [
    "contSun = dip.MorphologicalGradientMagnitude(bin)\n",
    "contSun.Show()"
   ]
  },
  {
   "cell_type": "markdown",
   "id": "80d0a23b",
   "metadata": {},
   "source": [
    "Contour of the mask, obtained by morphological gradient, which is superimposed to the input image"
   ]
  },
  {
   "cell_type": "code",
   "execution_count": null,
   "id": "fdce54fa",
   "metadata": {},
   "outputs": [],
   "source": [
    "img_ovr_sun = dip.Overlay(img,contSun)\n",
    "img_ovr_sun.Show()"
   ]
  },
  {
   "cell_type": "markdown",
   "id": "c75447b1",
   "metadata": {},
   "source": [
    "### 3. Segmentation of facular regions"
   ]
  },
  {
   "cell_type": "markdown",
   "id": "51820acc",
   "metadata": {},
   "source": [
    "Computation of the black tophat"
   ]
  },
  {
   "cell_type": "code",
   "execution_count": null,
   "id": "92d54612",
   "metadata": {},
   "outputs": [],
   "source": [
    "WTH = dip.Tophat(ope,50)\n",
    "WTH.Show()"
   ]
  },
  {
   "cell_type": "markdown",
   "id": "4a5894c7",
   "metadata": {},
   "source": [
    "Binarization of facular regions"
   ]
  },
  {
   "cell_type": "code",
   "execution_count": null,
   "id": "fb5c8450",
   "metadata": {},
   "outputs": [],
   "source": [
    "binWTH = dip.FixedThreshold(WTH,30)\n",
    "binWTH.Show()"
   ]
  },
  {
   "cell_type": "markdown",
   "id": "8e7bc831",
   "metadata": {},
   "source": [
    "Fill holes of facular regions"
   ]
  },
  {
   "cell_type": "code",
   "execution_count": null,
   "id": "a30e0d3c",
   "metadata": {},
   "outputs": [],
   "source": [
    "fbinWTH = dip.FillHoles(binWTH)\n",
    "fbinWTH.Show()\n"
   ]
  },
  {
   "cell_type": "markdown",
   "id": "1388ab6a",
   "metadata": {},
   "source": [
    "Reconstrucion of facular regions"
   ]
  },
  {
   "cell_type": "code",
   "execution_count": null,
   "id": "d71ba7e7",
   "metadata": {},
   "outputs": [],
   "source": [
    "opeREC = dip.OpeningByReconstruction(fbinWTH,10)\n",
    "opeREC.Show()\n"
   ]
  },
  {
   "cell_type": "markdown",
   "id": "098d1183",
   "metadata": {},
   "source": [
    "Determination of the contours of the facular regions with a half-gradient or morphological external gradient, superposed to the input image"
   ]
  },
  {
   "cell_type": "code",
   "execution_count": null,
   "id": "1ab5f115",
   "metadata": {},
   "outputs": [],
   "source": [
    "contFR = dip.Dilation(fbinWTH) - fbinWTH\n",
    "contFR.Show()"
   ]
  },
  {
   "cell_type": "code",
   "execution_count": null,
   "id": "55e4bb4d",
   "metadata": {},
   "outputs": [],
   "source": [
    "img_ovr_FR = dip.Overlay(img,contFR)\n",
    "img_ovr_FR.Show()\n"
   ]
  },
  {
   "cell_type": "markdown",
   "id": "792f215a",
   "metadata": {},
   "source": [
    "Save the ouput result in a standard image format\n"
   ]
  },
  {
   "cell_type": "code",
   "execution_count": null,
   "id": "297295c5",
   "metadata": {},
   "outputs": [],
   "source": [
    "dip.ImageWriteJPEG(img_ovr_FR,'141003K3_facular.jpg')"
   ]
  }
 ],
 "metadata": {
  "kernelspec": {
   "display_name": "Python 3",
   "language": "python",
   "name": "python3"
  },
  "language_info": {
   "codemirror_mode": {
    "name": "ipython",
    "version": 3
   },
   "file_extension": ".py",
   "mimetype": "text/x-python",
   "name": "python",
   "nbconvert_exporter": "python",
   "pygments_lexer": "ipython3",
   "version": "3.8.8"
  }
 },
 "nbformat": 4,
 "nbformat_minor": 5
}
